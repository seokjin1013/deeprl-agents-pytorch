{
 "cells": [
  {
   "cell_type": "markdown",
   "metadata": {},
   "source": [
    "Agent의 policy의 weight를 모두 1으로 초기화하면 학습이 거의 되지 않는다."
   ]
  },
  {
   "cell_type": "code",
   "execution_count": 1,
   "metadata": {},
   "outputs": [],
   "source": [
    "import gymnasium\n",
    "import numpy as np\n",
    "import torch"
   ]
  },
  {
   "cell_type": "code",
   "execution_count": 2,
   "metadata": {},
   "outputs": [],
   "source": [
    "env = gymnasium.make('CartPole-v1')"
   ]
  },
  {
   "cell_type": "code",
   "execution_count": 3,
   "metadata": {},
   "outputs": [
    {
     "data": {
      "text/plain": [
       "array([10.79218902,  7.870898  ,  5.9302    ,  4.98      ,  2.        ])"
      ]
     },
     "execution_count": 3,
     "metadata": {},
     "output_type": "execute_result"
    }
   ],
   "source": [
    "gamma = 0.99\n",
    "def discount_rewards(r):\n",
    "    discounted_r = np.zeros_like(r)\n",
    "    running_add = 0\n",
    "    for t in reversed(range(r.size)):\n",
    "        running_add = running_add * gamma + r[t]\n",
    "        discounted_r[t] = running_add\n",
    "    return discounted_r\n",
    "discount_rewards(np.array([3, 2, 1, 3, 2.0]))"
   ]
  },
  {
   "cell_type": "code",
   "execution_count": 4,
   "metadata": {},
   "outputs": [
    {
     "data": {
      "text/plain": [
       "(array([-0.02066758,  0.04918516,  0.00725879, -0.04990533], dtype=float32),\n",
       " {})"
      ]
     },
     "execution_count": 4,
     "metadata": {},
     "output_type": "execute_result"
    }
   ],
   "source": [
    "env.reset()"
   ]
  },
  {
   "cell_type": "code",
   "execution_count": 5,
   "metadata": {},
   "outputs": [
    {
     "data": {
      "text/plain": [
       "(array([ 0.04350268,  0.15241024,  0.04872172, -0.28389737], dtype=float32),\n",
       " 1.0,\n",
       " False,\n",
       " False,\n",
       " {})"
      ]
     },
     "execution_count": 5,
     "metadata": {},
     "output_type": "execute_result"
    }
   ],
   "source": [
    "class Agent:\n",
    "    def __init__(self, lr, s_size, a_size, h_size):\n",
    "        self.policy = torch.nn.Sequential(\n",
    "            torch.nn.Linear(s_size, h_size, bias=False),\n",
    "            torch.nn.ReLU(),\n",
    "            torch.nn.Linear(h_size, a_size, bias=False),\n",
    "            torch.nn.Softmax(dim=-1),\n",
    "        )\n",
    "        self.optimizer = torch.optim.Adam(self.policy.parameters(), lr=lr)\n",
    "\n",
    "    def policy_output(self, state):\n",
    "        return self.policy(state)\n",
    "\n",
    "    def loss(self, action_logits, rewards):\n",
    "        loss = -rewards * torch.log(action_logits)\n",
    "        return loss\n",
    "    \n",
    "    def update(self, losses):\n",
    "        self.optimizer.zero_grad()\n",
    "        losses.backward()\n",
    "        self.optimizer.step()\n",
    "\n",
    "    def action(self, state):\n",
    "        x = self.policy(state)\n",
    "        x = torch.multinomial(x, 1)\n",
    "        return x.cpu().detach().item()\n",
    "\n",
    "agent = Agent(1e-3, 4, 2, 8)\n",
    "observation, info = env.reset()\n",
    "output = agent.policy_output(torch.tensor(observation))\n",
    "action = torch.multinomial(output, 1)\n",
    "observation, reward, terminated, truncated, info = env.step(action.cpu().detach().item())\n",
    "observation, reward, terminated, truncated, info"
   ]
  },
  {
   "cell_type": "code",
   "execution_count": 6,
   "metadata": {},
   "outputs": [
    {
     "name": "stdout",
     "output_type": "stream",
     "text": [
      "28.77\n",
      "35.88\n",
      "43.26\n",
      "51.41\n",
      "71.89\n",
      "128.03\n",
      "301.52\n",
      "394.08\n",
      "419.29\n",
      "376.61\n"
     ]
    }
   ],
   "source": [
    "total_episode = 10000\n",
    "max_ep = 999\n",
    "update_frequency = 5\n",
    "\n",
    "running_rewards = []\n",
    "for i in range(total_episode):\n",
    "    observation, info = env.reset()\n",
    "    action_logits = []\n",
    "    rewards = []\n",
    "    losses = []\n",
    "    for j in range(max_ep):\n",
    "        output = agent.policy_output(torch.tensor(observation))\n",
    "        action = torch.multinomial(output, 1)\n",
    "        observation, reward, terminated, truncated, info = env.step(action.cpu().detach().item())\n",
    "        action_logits.append(output[action])\n",
    "        rewards.append(reward)\n",
    "        if terminated:\n",
    "            running_rewards.append(sum(rewards))\n",
    "            action_logits = torch.concat(action_logits)\n",
    "            rewards = torch.tensor(discount_rewards(np.array(rewards)))\n",
    "            loss = agent.loss(action_logits, rewards)\n",
    "            losses.append(loss)\n",
    "            if i % update_frequency == 0:\n",
    "                agent.update(torch.concat(losses).sum())\n",
    "                losses.clear()\n",
    "            if i % 1000 == 999:\n",
    "                print(np.mean(running_rewards[-100:]))\n",
    "            break"
   ]
  },
  {
   "cell_type": "code",
   "execution_count": 7,
   "metadata": {},
   "outputs": [],
   "source": [
    "env = gymnasium.make('CartPole-v1', render_mode='human')\n",
    "observation, info = env.reset()\n",
    "while True:\n",
    "    action = agent.action(torch.tensor(observation))\n",
    "    observation, reward, terminated, truncated, info = env.step(action)\n",
    "    env.render()\n",
    "    if terminated:\n",
    "        env.close()\n",
    "        break"
   ]
  }
 ],
 "metadata": {
  "kernelspec": {
   "display_name": ".venv",
   "language": "python",
   "name": "python3"
  },
  "language_info": {
   "codemirror_mode": {
    "name": "ipython",
    "version": 3
   },
   "file_extension": ".py",
   "mimetype": "text/x-python",
   "name": "python",
   "nbconvert_exporter": "python",
   "pygments_lexer": "ipython3",
   "version": "3.10.12"
  },
  "orig_nbformat": 4
 },
 "nbformat": 4,
 "nbformat_minor": 2
}
