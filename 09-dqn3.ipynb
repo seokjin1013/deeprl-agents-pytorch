{
 "cells": [
  {
   "cell_type": "markdown",
   "metadata": {},
   "source": [
    "## DQN 특징\n",
    "\n",
    "1. 더 깊은 네트워크 사용\n",
    "2. experience replay 사용\n",
    "3. separate network 사용\n",
    "\n",
    "dqn2.ipynb의 조금 코드를 수정한 버전"
   ]
  },
  {
   "cell_type": "code",
   "execution_count": 1,
   "metadata": {},
   "outputs": [],
   "source": [
    "import gymnasium\n",
    "import numpy as np\n",
    "import random\n",
    "import torch\n",
    "import copy\n",
    "import collections\n",
    "import math\n",
    "import itertools\n",
    "from tqdm import tqdm"
   ]
  },
  {
   "cell_type": "code",
   "execution_count": 2,
   "metadata": {},
   "outputs": [],
   "source": [
    "class ReplayBuffer:\n",
    "    Transition = collections.namedtuple('Transition', 'state action reward next_state terminated')\n",
    "\n",
    "    def __init__(self, capacity):\n",
    "        self.memory = collections.deque(maxlen=capacity)\n",
    "    \n",
    "    def sample(self, batch_size):\n",
    "        return self.Transition(*(torch.tensor(np.array(i)) for i in zip(*random.sample(self.memory, batch_size))))\n",
    "    \n",
    "    def append(self, state, action, reward, next_state, terminated):\n",
    "        self.memory.append(self.Transition(\n",
    "            np.array(state, dtype=np.float32),\n",
    "            np.array(action, dtype=np.int64),\n",
    "            np.array(reward, dtype=np.float32),\n",
    "            np.array(next_state, dtype=np.float32),\n",
    "            np.array(terminated, dtype=np.bool8),\n",
    "        ))\n",
    "\n",
    "    def __len__(self):\n",
    "        return len(self.memory)"
   ]
  },
  {
   "cell_type": "code",
   "execution_count": 3,
   "metadata": {},
   "outputs": [],
   "source": [
    "env = gymnasium.make('CartPole-v1')\n",
    "env._max_episode_steps = 10000\n",
    "hidden_size = 128\n",
    "q = torch.nn.Sequential(\n",
    "    torch.nn.Linear(*env.observation_space.shape, hidden_size),\n",
    "    torch.nn.ReLU(),\n",
    "    torch.nn.Linear(hidden_size, hidden_size),\n",
    "    torch.nn.ReLU(),\n",
    "    torch.nn.Linear(hidden_size, env.action_space.n)\n",
    ")\n",
    "target_q = copy.deepcopy(q).requires_grad_(False)"
   ]
  },
  {
   "cell_type": "code",
   "execution_count": 4,
   "metadata": {},
   "outputs": [],
   "source": [
    "lr = 0.00001\n",
    "discount = 0.99\n",
    "criterion = torch.nn.HuberLoss()\n",
    "optimizer = torch.optim.AdamW(q.parameters(), lr=lr, amsgrad=True)\n",
    "replay_buffer = ReplayBuffer(10000)\n",
    "num_episodes = 600  \n",
    "batch_size = 128\n",
    "sync_interval = 10\n",
    "eps_start = 0.9\n",
    "eps_end = 0.05\n",
    "eps_decay = 1000\n",
    "tau = 0.005"
   ]
  },
  {
   "cell_type": "code",
   "execution_count": 5,
   "metadata": {},
   "outputs": [
    {
     "name": "stderr",
     "output_type": "stream",
     "text": [
      " 17%|█▋        | 102/600 [00:05<00:26, 18.90it/s]"
     ]
    },
    {
     "name": "stdout",
     "output_type": "stream",
     "text": [
      "20.95\n"
     ]
    },
    {
     "name": "stderr",
     "output_type": "stream",
     "text": [
      " 34%|███▍      | 204/600 [00:11<00:28, 14.02it/s]"
     ]
    },
    {
     "name": "stdout",
     "output_type": "stream",
     "text": [
      "20.28\n"
     ]
    },
    {
     "name": "stderr",
     "output_type": "stream",
     "text": [
      " 50%|█████     | 300/600 [00:19<00:25, 11.91it/s]"
     ]
    },
    {
     "name": "stdout",
     "output_type": "stream",
     "text": [
      "23.96\n"
     ]
    },
    {
     "name": "stderr",
     "output_type": "stream",
     "text": [
      " 67%|██████▋   | 402/600 [00:29<00:14, 13.91it/s]"
     ]
    },
    {
     "name": "stdout",
     "output_type": "stream",
     "text": [
      "28.86\n"
     ]
    },
    {
     "name": "stderr",
     "output_type": "stream",
     "text": [
      " 84%|████████▎ | 501/600 [00:34<00:04, 21.12it/s]"
     ]
    },
    {
     "name": "stdout",
     "output_type": "stream",
     "text": [
      "15.39\n"
     ]
    },
    {
     "name": "stderr",
     "output_type": "stream",
     "text": [
      "100%|██████████| 600/600 [00:39<00:00, 15.14it/s]"
     ]
    },
    {
     "name": "stdout",
     "output_type": "stream",
     "text": [
      "13.11\n"
     ]
    },
    {
     "name": "stderr",
     "output_type": "stream",
     "text": [
      "\n"
     ]
    }
   ],
   "source": [
    "steps = []\n",
    "for i in tqdm(range(num_episodes)):\n",
    "    state, info = env.reset()\n",
    "    for step in itertools.count():\n",
    "        eps = eps_end + (eps_start - eps_end) * math.exp(-i / eps_decay)\n",
    "        if random.random() < eps:\n",
    "            action = env.action_space.sample()\n",
    "        else:\n",
    "            action = torch.argmax(q(torch.tensor(state))).cpu().detach().item()\n",
    "        next_state, reward, terminated, truncated, info = env.step(action)\n",
    "        replay_buffer.append(state, action, reward, next_state, terminated)\n",
    "        \n",
    "        if len(replay_buffer) >= batch_size:\n",
    "            batch = replay_buffer.sample(batch_size)\n",
    "            state_action_values = q(batch.state).gather(1, batch.action.unsqueeze(0)).squeeze()\n",
    "            next_state_values = torch.zeros_like(state_action_values)\n",
    "            next_state_values[batch.terminated] = target_q(batch.next_state[batch.terminated]).max(1).values\n",
    "            expected_state_action_values = next_state_values * discount + batch.reward\n",
    "            loss = criterion(state_action_values, expected_state_action_values)\n",
    "            optimizer.zero_grad()\n",
    "            loss.backward()\n",
    "            torch.nn.utils.clip_grad_value_(q.parameters(), 100)\n",
    "            optimizer.step()\n",
    "            \n",
    "        state = next_state\n",
    "        if terminated or truncated:\n",
    "            break\n",
    "    \n",
    "    steps.append(step)\n",
    "\n",
    "    if (i + 1) % sync_interval == 0:\n",
    "        target_q_state_dict = target_q.state_dict()\n",
    "        q_state_dict = q.state_dict() \n",
    "        for key in q_state_dict:\n",
    "            target_q_state_dict[key] = tau * q_state_dict[key] + (1-tau) * target_q_state_dict[key]\n",
    "        target_q.load_state_dict(target_q_state_dict)\n",
    "\n",
    "    if (i + 1) % 100 == 0:\n",
    "        print(np.mean(steps[-100:]))"
   ]
  },
  {
   "cell_type": "code",
   "execution_count": 6,
   "metadata": {},
   "outputs": [
    {
     "data": {
      "text/plain": [
       "10000"
      ]
     },
     "execution_count": 6,
     "metadata": {},
     "output_type": "execute_result"
    }
   ],
   "source": [
    "len(replay_buffer)"
   ]
  },
  {
   "cell_type": "code",
   "execution_count": 7,
   "metadata": {},
   "outputs": [
    {
     "data": {
      "text/plain": [
       "[<matplotlib.lines.Line2D at 0x7fd3baaae4a0>]"
      ]
     },
     "execution_count": 7,
     "metadata": {},
     "output_type": "execute_result"
    },
    {
     "data": {
      "image/png": "[encoded data removed]",
      "text/plain": [
       "<Figure size 640x480 with 1 Axes>"
      ]
     },
     "metadata": {},
     "output_type": "display_data"
    }
   ],
   "source": [
    "import matplotlib.pyplot as plt\n",
    "plt.plot(steps)"
   ]
  },
  {
   "cell_type": "code",
   "execution_count": 8,
   "metadata": {},
   "outputs": [
    {
     "data": {
      "text/plain": [
       "[9.0, 9.0, 10.0, 9.0, 10.0, 8.0, 9.0, 10.0, 10.0, 10.0]"
      ]
     },
     "execution_count": 8,
     "metadata": {},
     "output_type": "execute_result"
    }
   ],
   "source": [
    "env = gymnasium.make('CartPole-v1', render_mode='human')\n",
    "scores = []\n",
    "for i in range(10):\n",
    "    score = 0\n",
    "    state, info = env.reset()\n",
    "    while True:\n",
    "        action = torch.argmax(target_q(torch.tensor(state))).cpu().detach().item()\n",
    "        next_state, reward, terminated, truncated, info = env.step(action)\n",
    "        score += reward\n",
    "        state = next_state\n",
    "        if terminated or truncated:\n",
    "            break\n",
    "    scores.append(score)\n",
    "env.close()\n",
    "scores"
   ]
  },
  {
   "cell_type": "code",
   "execution_count": 9,
   "metadata": {},
   "outputs": [],
   "source": [
    "env.close()"
   ]
  },
  {
   "cell_type": "code",
   "execution_count": 10,
   "metadata": {},
   "outputs": [],
   "source": [
    "env = gymnasium.make('CartPole-v1')"
   ]
  }
 ],
 "metadata": {
  "kernelspec": {
   "display_name": ".venv",
   "language": "python",
   "name": "python3"
  },
  "language_info": {
   "codemirror_mode": {
    "name": "ipython",
    "version": 3
   },
   "file_extension": ".py",
   "mimetype": "text/x-python",
   "name": "python",
   "nbconvert_exporter": "python",
   "pygments_lexer": "ipython3",
   "version": "3.10.12"
  },
  "orig_nbformat": 4
 },
 "nbformat": 4,
 "nbformat_minor": 2
}
