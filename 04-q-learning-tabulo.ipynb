{
 "cells": [
  {
   "cell_type": "code",
   "execution_count": 1,
   "metadata": {},
   "outputs": [],
   "source": [
    "import gymnasium\n",
    "import torch\n",
    "import numpy as np"
   ]
  },
  {
   "cell_type": "code",
   "execution_count": 2,
   "metadata": {},
   "outputs": [],
   "source": [
    "env = gymnasium.make('FrozenLake-v1')"
   ]
  },
  {
   "cell_type": "code",
   "execution_count": 3,
   "metadata": {},
   "outputs": [],
   "source": [
    "q = np.zeros([env.observation_space.n, env.action_space.n])"
   ]
  },
  {
   "cell_type": "code",
   "execution_count": 4,
   "metadata": {},
   "outputs": [],
   "source": [
    "lr = 0.85\n",
    "gamma = 0.99\n",
    "num_episodes = 2000\n",
    "running_rewards = []\n",
    "for i in range(num_episodes):\n",
    "    cur, info = env.reset()\n",
    "    running_reward = 0\n",
    "    while True:\n",
    "        action = np.argmax(q[cur, :] + np.random.randn(env.action_space.n) * (1/(i+1)))\n",
    "        nxt, reward, terminated, truncated, info = env.step(action)\n",
    "        q[cur, action] += lr * (reward + gamma * np.max(q[nxt, :]) - q[cur, action])\n",
    "        cur = nxt\n",
    "        running_reward += reward\n",
    "        if terminated:\n",
    "            running_rewards.append(running_reward)\n",
    "            break"
   ]
  },
  {
   "cell_type": "code",
   "execution_count": 5,
   "metadata": {},
   "outputs": [
    {
     "data": {
      "text/plain": [
       "0.74"
      ]
     },
     "execution_count": 5,
     "metadata": {},
     "output_type": "execute_result"
    }
   ],
   "source": [
    "sum(running_rewards) / num_episodes"
   ]
  },
  {
   "cell_type": "code",
   "execution_count": 6,
   "metadata": {},
   "outputs": [
    {
     "data": {
      "text/plain": [
       "array([[6.65170928e-01, 1.73806708e-02, 1.01091030e-02, 1.73589044e-02],\n",
       "       [4.62725578e-05, 3.96777864e-03, 2.09250841e-04, 5.68367062e-01],\n",
       "       [4.84715318e-03, 1.34101906e-02, 2.98681581e-03, 5.73668428e-01],\n",
       "       [1.52589960e-03, 1.21788536e-03, 1.56077812e-03, 4.32360879e-01],\n",
       "       [6.95281427e-01, 2.57426258e-04, 2.35575020e-04, 2.48958690e-04],\n",
       "       [0.00000000e+00, 0.00000000e+00, 0.00000000e+00, 0.00000000e+00],\n",
       "       [5.00673620e-01, 6.28209776e-10, 2.94744299e-04, 7.71214107e-04],\n",
       "       [0.00000000e+00, 0.00000000e+00, 0.00000000e+00, 0.00000000e+00],\n",
       "       [2.76103040e-04, 1.30619638e-03, 8.04200138e-03, 7.94521609e-01],\n",
       "       [0.00000000e+00, 5.87654119e-01, 5.05460393e-05, 1.29257342e-03],\n",
       "       [9.08293740e-01, 0.00000000e+00, 5.43161953e-05, 4.82420783e-05],\n",
       "       [0.00000000e+00, 0.00000000e+00, 0.00000000e+00, 0.00000000e+00],\n",
       "       [0.00000000e+00, 0.00000000e+00, 0.00000000e+00, 0.00000000e+00],\n",
       "       [5.56738030e-03, 0.00000000e+00, 9.68721824e-01, 6.30169026e-03],\n",
       "       [0.00000000e+00, 9.97061029e-01, 0.00000000e+00, 0.00000000e+00],\n",
       "       [0.00000000e+00, 0.00000000e+00, 0.00000000e+00, 0.00000000e+00]])"
      ]
     },
     "execution_count": 6,
     "metadata": {},
     "output_type": "execute_result"
    }
   ],
   "source": [
    "q"
   ]
  },
  {
   "cell_type": "code",
   "execution_count": 8,
   "metadata": {},
   "outputs": [],
   "source": [
    "env = gymnasium.make('FrozenLake-v1', render_mode='human')\n",
    "cur, info = env.reset()\n",
    "while True:\n",
    "    nxt, reward, terminated, truncated, info = env.step(np.argmax(q[cur, :]))\n",
    "    cur = nxt\n",
    "    if terminated:\n",
    "        env.close()\n",
    "        break"
   ]
  }
 ],
 "metadata": {
  "kernelspec": {
   "display_name": ".venv",
   "language": "python",
   "name": "python3"
  },
  "language_info": {
   "codemirror_mode": {
    "name": "ipython",
    "version": 3
   },
   "file_extension": ".py",
   "mimetype": "text/x-python",
   "name": "python",
   "nbconvert_exporter": "python",
   "pygments_lexer": "ipython3",
   "version": "3.10.12"
  },
  "orig_nbformat": 4
 },
 "nbformat": 4,
 "nbformat_minor": 2
}
