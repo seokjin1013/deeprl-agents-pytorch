{
 "cells": [
  {
   "cell_type": "markdown",
   "metadata": {},
   "source": [
    "## DQN 특징\n",
    "\n",
    "1. 더 깊은 네트워크 사용\n",
    "2. experience replay 사용\n",
    "3. separate network 사용\n",
    "\n",
    "dqn3.ipynb의 조금 코드를 수정한 버전"
   ]
  },
  {
   "cell_type": "code",
   "execution_count": 32,
   "metadata": {},
   "outputs": [],
   "source": [
    "import gymnasium\n",
    "import numpy as np\n",
    "import random\n",
    "import torch\n",
    "import copy\n",
    "import collections\n",
    "import math\n",
    "import itertools\n",
    "from tqdm import tqdm"
   ]
  },
  {
   "cell_type": "code",
   "execution_count": 33,
   "metadata": {},
   "outputs": [],
   "source": [
    "class ReplayBuffer:\n",
    "    Transition = collections.namedtuple('Transition', 'state action reward next_state terminated')\n",
    "\n",
    "    def __init__(self, capacity):\n",
    "        self.memory = collections.deque(maxlen=capacity)\n",
    "    \n",
    "    def sample(self, batch_size):\n",
    "        return self.Transition(*(torch.tensor(np.array(i)) for i in zip(*random.sample(self.memory, batch_size))))\n",
    "    \n",
    "    def append(self, state, action, reward, next_state, terminated):\n",
    "        self.memory.append(self.Transition(\n",
    "            np.array(state, dtype=np.float32),\n",
    "            np.array(action, dtype=np.int64),\n",
    "            np.array(reward, dtype=np.float32),\n",
    "            np.array(next_state, dtype=np.float32),\n",
    "            np.array(terminated, dtype=np.bool8),\n",
    "        ))\n",
    "\n",
    "    def __len__(self):\n",
    "        return len(self.memory)"
   ]
  },
  {
   "cell_type": "code",
   "execution_count": 34,
   "metadata": {},
   "outputs": [],
   "source": [
    "env = gymnasium.make('CartPole-v1')\n",
    "hidden_size = 128\n",
    "q = torch.nn.Sequential(\n",
    "    torch.nn.Linear(*env.observation_space.shape, hidden_size),\n",
    "    torch.nn.ReLU(),\n",
    "    torch.nn.Linear(hidden_size, hidden_size),\n",
    "    torch.nn.ReLU(),\n",
    "    torch.nn.Linear(hidden_size, env.action_space.n)\n",
    ")\n",
    "target_q = copy.deepcopy(q)"
   ]
  },
  {
   "cell_type": "code",
   "execution_count": 35,
   "metadata": {},
   "outputs": [],
   "source": [
    "lr = 0.0001\n",
    "discount = 0.99\n",
    "criterion = torch.nn.HuberLoss()\n",
    "optimizer = torch.optim.AdamW(q.parameters(), lr=lr, amsgrad=True)\n",
    "replay_buffer = ReplayBuffer(10000)\n",
    "num_episodes = 600\n",
    "batch_size = 128\n",
    "eps_start = 0.9\n",
    "eps_end = 0.05\n",
    "eps_decay = 1000\n",
    "tau = 0.005"
   ]
  },
  {
   "cell_type": "code",
   "execution_count": 36,
   "metadata": {},
   "outputs": [
    {
     "name": "stderr",
     "output_type": "stream",
     "text": [
      " 17%|█▋        | 102/600 [00:05<00:28, 17.19it/s]"
     ]
    },
    {
     "name": "stdout",
     "output_type": "stream",
     "text": [
      "12.4\n"
     ]
    },
    {
     "name": "stderr",
     "output_type": "stream",
     "text": [
      " 33%|███▎      | 200/600 [00:39<06:05,  1.09it/s]"
     ]
    },
    {
     "name": "stdout",
     "output_type": "stream",
     "text": [
      "61.07\n"
     ]
    },
    {
     "name": "stderr",
     "output_type": "stream",
     "text": [
      " 50%|█████     | 300/600 [02:05<04:09,  1.20it/s]"
     ]
    },
    {
     "name": "stdout",
     "output_type": "stream",
     "text": [
      "155.48\n"
     ]
    },
    {
     "name": "stderr",
     "output_type": "stream",
     "text": [
      " 67%|██████▋   | 400/600 [03:37<03:22,  1.01s/it]"
     ]
    },
    {
     "name": "stdout",
     "output_type": "stream",
     "text": [
      "169.95\n"
     ]
    },
    {
     "name": "stderr",
     "output_type": "stream",
     "text": [
      " 83%|████████▎ | 500/600 [05:57<04:36,  2.76s/it]"
     ]
    },
    {
     "name": "stdout",
     "output_type": "stream",
     "text": [
      "257.8\n"
     ]
    },
    {
     "name": "stderr",
     "output_type": "stream",
     "text": [
      "100%|██████████| 600/600 [12:47<00:00,  1.28s/it]"
     ]
    },
    {
     "name": "stdout",
     "output_type": "stream",
     "text": [
      "499.0\n"
     ]
    },
    {
     "name": "stderr",
     "output_type": "stream",
     "text": [
      "\n"
     ]
    }
   ],
   "source": [
    "steps = []\n",
    "action_count = 0\n",
    "for i in tqdm(range(num_episodes)):\n",
    "    state, info = env.reset()\n",
    "    for step in itertools.count():\n",
    "        eps = eps_end + (eps_start - eps_end) * math.exp(-action_count / eps_decay)\n",
    "        action_count += 1\n",
    "        if random.random() < eps:\n",
    "            action = env.action_space.sample()\n",
    "        else:\n",
    "            action = q(torch.tensor(state)).argmax().cpu().detach().item()\n",
    "        next_state, reward, terminated, truncated, info = env.step(action)\n",
    "        replay_buffer.append(state, action, reward, next_state, terminated)\n",
    "        if len(replay_buffer) >= batch_size:\n",
    "            batch = replay_buffer.sample(batch_size)\n",
    "            state_action_values = q(batch.state).gather(1, batch.action.unsqueeze(1)).squeeze()\n",
    "            next_state_values = torch.zeros_like(state_action_values)\n",
    "            next_state_values[~batch.terminated] = target_q(batch.next_state[~batch.terminated]).max(1).values\n",
    "            expected_state_action_values = next_state_values * discount + batch.reward\n",
    "            loss = criterion(state_action_values, expected_state_action_values)\n",
    "            optimizer.zero_grad()\n",
    "            loss.backward()\n",
    "            torch.nn.utils.clip_grad_value_(q.parameters(), 100)\n",
    "            optimizer.step()\n",
    "            \n",
    "        target_q_state_dict = target_q.state_dict()\n",
    "        q_state_dict = q.state_dict()\n",
    "        for key in q_state_dict:\n",
    "            target_q_state_dict[key] = tau * q_state_dict[key] + (1-tau) * target_q_state_dict[key]\n",
    "        target_q.load_state_dict(target_q_state_dict)\n",
    "            \n",
    "        state = next_state\n",
    "        if terminated or truncated:\n",
    "            break\n",
    "    \n",
    "    steps.append(step)\n",
    "\n",
    "    if (i + 1) % 100 == 0:\n",
    "        print(np.mean(steps[-100:]))"
   ]
  },
  {
   "cell_type": "code",
   "execution_count": 37,
   "metadata": {},
   "outputs": [
    {
     "data": {
      "text/plain": [
       "10000"
      ]
     },
     "execution_count": 37,
     "metadata": {},
     "output_type": "execute_result"
    }
   ],
   "source": [
    "len(replay_buffer)"
   ]
  },
  {
   "cell_type": "code",
   "execution_count": 38,
   "metadata": {},
   "outputs": [
    {
     "data": {
      "text/plain": [
       "[<matplotlib.lines.Line2D at 0x7f14c6f70190>]"
      ]
     },
     "execution_count": 38,
     "metadata": {},
     "output_type": "execute_result"
    },
    {
     "data": {
      "image/png": "[encoded data removed]",
      "text/plain": [
       "<Figure size 640x480 with 1 Axes>"
      ]
     },
     "metadata": {},
     "output_type": "display_data"
    }
   ],
   "source": [
    "import matplotlib.pyplot as plt\n",
    "plt.plot(steps)"
   ]
  },
  {
   "cell_type": "code",
   "execution_count": 39,
   "metadata": {},
   "outputs": [
    {
     "data": {
      "text/plain": [
       "[500.0, 500.0, 500.0, 500.0, 500.0, 500.0, 500.0, 500.0, 500.0, 500.0]"
      ]
     },
     "execution_count": 39,
     "metadata": {},
     "output_type": "execute_result"
    }
   ],
   "source": [
    "env = gymnasium.make('CartPole-v1', render_mode='human')\n",
    "scores = []\n",
    "for i in range(10):\n",
    "    score = 0\n",
    "    state, info = env.reset()\n",
    "    while True:\n",
    "        action = torch.argmax(target_q(torch.tensor(state))).cpu().detach().item()\n",
    "        next_state, reward, terminated, truncated, info = env.step(action)\n",
    "        score += reward\n",
    "        state = next_state\n",
    "        if terminated or truncated:\n",
    "            break\n",
    "    scores.append(score)\n",
    "env.close()\n",
    "scores"
   ]
  },
  {
   "cell_type": "code",
   "execution_count": 40,
   "metadata": {},
   "outputs": [],
   "source": [
    "env.close()"
   ]
  },
  {
   "cell_type": "code",
   "execution_count": 41,
   "metadata": {},
   "outputs": [],
   "source": [
    "env = gymnasium.make('CartPole-v1')"
   ]
  }
 ],
 "metadata": {
  "kernelspec": {
   "display_name": ".venv",
   "language": "python",
   "name": "python3"
  },
  "language_info": {
   "codemirror_mode": {
    "name": "ipython",
    "version": 3
   },
   "file_extension": ".py",
   "mimetype": "text/x-python",
   "name": "python",
   "nbconvert_exporter": "python",
   "pygments_lexer": "ipython3",
   "version": "3.10.12"
  },
  "orig_nbformat": 4
 },
 "nbformat": 4,
 "nbformat_minor": 2
}
