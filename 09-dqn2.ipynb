{
 "cells": [
  {
   "cell_type": "markdown",
   "metadata": {},
   "source": [
    "## DQN 특징\n",
    "\n",
    "1. 더 깊은 네트워크 사용\n",
    "2. experience replay 사용\n",
    "3. separate network 사용"
   ]
  },
  {
   "cell_type": "code",
   "execution_count": 48,
   "metadata": {},
   "outputs": [],
   "source": [
    "import gymnasium\n",
    "import numpy as np\n",
    "import random\n",
    "import torch\n",
    "import copy\n",
    "import collections\n",
    "import math\n",
    "import itertools\n",
    "from tqdm import tqdm"
   ]
  },
  {
   "cell_type": "code",
   "execution_count": 49,
   "metadata": {},
   "outputs": [],
   "source": [
    "class ReplayBuffer:\n",
    "    Transition = collections.namedtuple('Transition', 'state action reward next_state terminated')\n",
    "\n",
    "    def __init__(self, capacity):\n",
    "        self.memory = collections.deque(maxlen=capacity)\n",
    "    \n",
    "    def sample(self, batch_size):\n",
    "        a = random.sample(self.memory, batch_size)\n",
    "        d = zip(*a)\n",
    "        b = [torch.tensor(i) for i in d]\n",
    "        c = self.Transition(*b)\n",
    "        return c\n",
    "        # return self.Transition(*(torch.tensor(i) for i in zip(*random.sample(self.memory, batch_size))))\n",
    "    \n",
    "    def append(self, state, action, reward, next_state, terminated):\n",
    "        self.memory.append(self.Transition(state, action, reward, next_state, terminated))\n",
    "\n",
    "    def __len__(self):\n",
    "        return len(self.memory)"
   ]
  },
  {
   "cell_type": "code",
   "execution_count": 50,
   "metadata": {},
   "outputs": [],
   "source": [
    "env = gymnasium.make('CartPole-v1')\n",
    "env._max_episode_steps = 10000\n",
    "hidden_size = 128\n",
    "q = torch.nn.Sequential(\n",
    "    torch.nn.Linear(*env.observation_space.shape, hidden_size),\n",
    "    torch.nn.ReLU(),\n",
    "    torch.nn.Linear(hidden_size, hidden_size),\n",
    "    torch.nn.ReLU(),\n",
    "    torch.nn.Linear(hidden_size, env.action_space.n)\n",
    ")\n",
    "target_q = copy.deepcopy(q).requires_grad_(False)"
   ]
  },
  {
   "cell_type": "code",
   "execution_count": 51,
   "metadata": {},
   "outputs": [],
   "source": [
    "lr = 0.00001\n",
    "discount = 0.99\n",
    "criterion = torch.nn.HuberLoss()\n",
    "optimizer = torch.optim.AdamW(q.parameters(), lr=lr, amsgrad=True)\n",
    "replay_buffer = ReplayBuffer(10000)\n",
    "num_episodes = 1000  \n",
    "batch_size = 2\n",
    "sync_interval = 10\n",
    "eps_start = 0.9\n",
    "eps_end = 0.05\n",
    "eps_decay = 1000\n",
    "tau = 0.005"
   ]
  },
  {
   "cell_type": "code",
   "execution_count": 52,
   "metadata": {},
   "outputs": [],
   "source": [
    "# state, info = env.reset()\n",
    "# for _ in range(300):\n",
    "#     action = env.action_space.sample()\n",
    "#     next_state, reward, terminated, truncated, info = env.step(action)\n",
    "#     replay_buffer.append(state, action, reward, next_state, terminated)\n",
    "#     state = next_state\n",
    "\n",
    "# batch = replay_buffer.sample(2)\n",
    "# state_action_values = q(batch.state).gather(1, batch.action.unsqueeze(0)).squeeze()\n",
    "# next_state_values = torch.zeros_like(state_action_values)\n",
    "# next_state_values[batch.terminated] = target_q(batch.next_state[batch.terminated]).max(1).values\n",
    "# expected_state_action_values = next_state_values * discount + batch.reward\n",
    "# loss = criterion(state_action_values, expected_state_action_values)\n",
    "# optimizer.zero_grad()\n",
    "# loss.backward()\n",
    "# optimizer.step()"
   ]
  },
  {
   "cell_type": "code",
   "execution_count": 53,
   "metadata": {},
   "outputs": [
    {
     "name": "stderr",
     "output_type": "stream",
     "text": [
      "  0%|          | 4/1000 [00:00<01:21, 12.24it/s]"
     ]
    },
    {
     "name": "stderr",
     "output_type": "stream",
     "text": [
      " 10%|█         | 104/1000 [00:03<00:32, 27.77it/s]"
     ]
    },
    {
     "name": "stdout",
     "output_type": "stream",
     "text": [
      "21.03 20.03\n"
     ]
    },
    {
     "name": "stderr",
     "output_type": "stream",
     "text": [
      " 20%|██        | 204/1000 [00:06<00:23, 34.54it/s]"
     ]
    },
    {
     "name": "stdout",
     "output_type": "stream",
     "text": [
      "17.68 16.68\n"
     ]
    },
    {
     "name": "stderr",
     "output_type": "stream",
     "text": [
      " 30%|███       | 303/1000 [00:10<00:25, 27.83it/s]"
     ]
    },
    {
     "name": "stdout",
     "output_type": "stream",
     "text": [
      "18.79 17.79\n"
     ]
    },
    {
     "name": "stderr",
     "output_type": "stream",
     "text": [
      " 40%|████      | 401/1000 [00:14<00:25, 23.52it/s]"
     ]
    },
    {
     "name": "stdout",
     "output_type": "stream",
     "text": [
      "18.05 17.05\n"
     ]
    },
    {
     "name": "stderr",
     "output_type": "stream",
     "text": [
      " 48%|████▊     | 484/1000 [00:18<00:25, 20.49it/s]"
     ]
    },
    {
     "name": "stderr",
     "output_type": "stream",
     "text": [
      " 50%|█████     | 501/1000 [00:19<00:35, 13.96it/s]"
     ]
    },
    {
     "name": "stdout",
     "output_type": "stream",
     "text": [
      "18.62 17.62\n"
     ]
    },
    {
     "name": "stderr",
     "output_type": "stream",
     "text": [
      " 51%|█████     | 507/1000 [00:20<00:34, 14.14it/s]"
     ]
    }
   ],
   "source": [
    "def optimize():\n",
    "    if len(replay_buffer) < batch_size:\n",
    "        return\n",
    "    # batch = replay_buffer.sample(batch_size)\n",
    "    # optimizer.zero_grad()\n",
    "    # losses = []\n",
    "    # for u, action, r, v, terminated in batch:\n",
    "    #     uq = q(u) \n",
    "    #     if terminated:\n",
    "    #         uq[action] = r\n",
    "    #     else:\n",
    "    #         uq[action] = r + discount * torch.max(target_q(v))\n",
    "    #         # uq[action] = r + discount * target_q(v)[torch.argmax(q(v))]\n",
    "    #     loss = criterion(uq, q(u))\n",
    "    #     losses.append(loss)\n",
    "    # sum(losses).backward()\n",
    "    # torch.nn.utils.clip_grad_value_(optimizer.param_groups[0]['params'], 100)\n",
    "    # optimizer.step()\n",
    "    batch = replay_buffer.sample(batch_size)\n",
    "    state_action_values = q(batch.state).gather(1, batch.action.unsqueeze(0)).squeeze()\n",
    "    next_state_values = torch.zeros_like(state_action_values)\n",
    "    next_state_values[batch.terminated] = target_q(batch.next_state[batch.terminated]).max(1).values\n",
    "    expected_state_action_values = next_state_values * discount + batch.reward\n",
    "    loss = criterion(state_action_values, expected_state_action_values)\n",
    "    optimizer.zero_grad()\n",
    "    loss.backward()\n",
    "    torch.nn.utils.clip_grad_value_(optimizer.param_groups[0]['params'], 100)\n",
    "    optimizer.step()\n",
    "\n",
    "scores = []\n",
    "steps = []\n",
    "for i in tqdm(range(num_episodes)):\n",
    "    state, info = env.reset()\n",
    "    score = 0\n",
    "    for step in itertools.count():\n",
    "        eps = eps_end + (eps_start - eps_end) * math.exp(-i / eps_decay)\n",
    "        if random.random() < eps:\n",
    "            action = env.action_space.sample()\n",
    "        else:\n",
    "            with torch.inference_mode():\n",
    "                action = torch.argmax(q(torch.tensor(state))).cpu().detach().item()\n",
    "        next_state, reward, terminated, truncated, info = env.step(action)\n",
    "        score += reward\n",
    "        replay_buffer.append(state, action, reward, next_state, terminated)\n",
    "        optimize()\n",
    "        state = next_state\n",
    "        if terminated or truncated:\n",
    "            break\n",
    "    \n",
    "    scores.append(score)\n",
    "    steps.append(step)\n",
    "\n",
    "    if (i + 1) % sync_interval == 0:\n",
    "        target_q_state_dict = target_q.state_dict()\n",
    "        q_state_dict = q.state_dict() \n",
    "        for key in q_state_dict:\n",
    "            target_q_state_dict[key] = tau * q_state_dict[key] + (1-tau) * target_q_state_dict[key]\n",
    "\n",
    "    if (i + 1) % 100 == 0:\n",
    "        print(np.mean(scores[-100:]), np.mean(steps[-100:]))"
   ]
  },
  {
   "cell_type": "code",
   "execution_count": null,
   "metadata": {},
   "outputs": [
    {
     "name": "stdout",
     "output_type": "stream",
     "text": [
      "[(1, 3), (2, 4), (3, 5)]\n",
      "[]\n"
     ]
    }
   ],
   "source": [
    "a = [1, 2, 3]\n",
    "b = [3, 4, 5]\n",
    "c = zip(a, b)\n",
    "print(list(c))\n",
    "d = list(c)\n",
    "print(d)"
   ]
  },
  {
   "cell_type": "code",
   "execution_count": null,
   "metadata": {},
   "outputs": [
    {
     "data": {
      "text/plain": [
       "<zip at 0x7f42f3622880>"
      ]
     },
     "execution_count": 21,
     "metadata": {},
     "output_type": "execute_result"
    }
   ],
   "source": [
    "asdf"
   ]
  },
  {
   "cell_type": "code",
   "execution_count": null,
   "metadata": {},
   "outputs": [
    {
     "data": {
      "text/plain": [
       "10000"
      ]
     },
     "execution_count": 6,
     "metadata": {},
     "output_type": "execute_result"
    }
   ],
   "source": [
    "len(replay_buffer)"
   ]
  },
  {
   "cell_type": "code",
   "execution_count": null,
   "metadata": {},
   "outputs": [
    {
     "data": {
      "text/plain": [
       "[<matplotlib.lines.Line2D at 0x7f687219c0d0>]"
      ]
     },
     "execution_count": 7,
     "metadata": {},
     "output_type": "execute_result"
    },
    {
     "data": {
      "image/png": "[encoded data removed]",
      "text/plain": [
       "<Figure size 640x480 with 1 Axes>"
      ]
     },
     "metadata": {},
     "output_type": "display_data"
    }
   ],
   "source": [
    "import matplotlib.pyplot as plt\n",
    "plt.plot(scores)"
   ]
  },
  {
   "cell_type": "code",
   "execution_count": null,
   "metadata": {},
   "outputs": [
    {
     "data": {
      "text/plain": [
       "[50.0, 51.0, 40.0, 45.0, 42.0, 49.0, 52.0, 54.0, 54.0, 40.0]"
      ]
     },
     "execution_count": 8,
     "metadata": {},
     "output_type": "execute_result"
    }
   ],
   "source": [
    "env = gymnasium.make('CartPole-v1', render_mode='human')\n",
    "rewards = []\n",
    "for i in range(10):\n",
    "    reward = 0\n",
    "    u, info = env.reset()\n",
    "    u = torch.tensor(u)\n",
    "    while True:\n",
    "        action = torch.argmax(target_q(u)).cpu().detach().item()\n",
    "        v, r, terminated, truncated, info = env.step(action)\n",
    "        v = torch.tensor(v)\n",
    "        reward += r\n",
    "        u = v\n",
    "        if terminated or truncated:\n",
    "            break\n",
    "    rewards.append(reward)\n",
    "env.close()\n",
    "rewards"
   ]
  },
  {
   "cell_type": "code",
   "execution_count": null,
   "metadata": {},
   "outputs": [],
   "source": [
    "env.close()"
   ]
  },
  {
   "cell_type": "code",
   "execution_count": null,
   "metadata": {},
   "outputs": [],
   "source": [
    "env = gymnasium.make('CartPole-v1')"
   ]
  }
 ],
 "metadata": {
  "kernelspec": {
   "display_name": ".venv",
   "language": "python",
   "name": "python3"
  },
  "language_info": {
   "codemirror_mode": {
    "name": "ipython",
    "version": 3
   },
   "file_extension": ".py",
   "mimetype": "text/x-python",
   "name": "python",
   "nbconvert_exporter": "python",
   "pygments_lexer": "ipython3",
   "version": "3.10.12"
  },
  "orig_nbformat": 4
 },
 "nbformat": 4,
 "nbformat_minor": 2
}
