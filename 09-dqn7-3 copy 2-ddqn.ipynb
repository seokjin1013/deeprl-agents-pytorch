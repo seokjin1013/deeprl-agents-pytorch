{
 "cells": [
  {
   "cell_type": "markdown",
   "metadata": {},
   "source": [
    "## DQN 특징\n",
    "\n",
    "1. 더 깊은 네트워크 사용\n",
    "2. experience replay 사용\n",
    "3. separate network 사용\n",
    "\n",
    "dqn7-3 copy 2.ipynb에서 ddqn적용\n",
    "\n",
    "* reward -= distance / 4.8 * 2로 디자인하니 처음에 너무 치우쳐져 생성된 경우에 바로 pole을 쓰러트려 음수 보상을 받는 것을 피하는 전략이 나왔음\n",
    "* reward -= distance / 4.8으로 디자인해야겠다"
   ]
  },
  {
   "cell_type": "code",
   "execution_count": 1,
   "metadata": {},
   "outputs": [],
   "source": [
    "import gymnasium\n",
    "from gymnasium.envs.registration import register\n",
    "import numpy as np\n",
    "import random\n",
    "import torch\n",
    "import copy\n",
    "import collections\n",
    "import math\n",
    "import itertools\n",
    "from tqdm import tqdm"
   ]
  },
  {
   "cell_type": "code",
   "execution_count": 2,
   "metadata": {},
   "outputs": [],
   "source": [
    "class ReplayBuffer:\n",
    "    Transition = collections.namedtuple('Transition', 'state action reward next_state terminated')\n",
    "\n",
    "    def __init__(self, capacity):\n",
    "        self.memory = collections.deque(maxlen=capacity)\n",
    "    \n",
    "    def sample(self, batch_size):\n",
    "        return self.Transition(*(torch.tensor(np.array(i)) for i in zip(*random.sample(self.memory, batch_size))))\n",
    "    \n",
    "    def append(self, state, action, reward, next_state, terminated):\n",
    "        self.memory.append(self.Transition(\n",
    "            np.array(state, dtype=np.float32),\n",
    "            np.array(action, dtype=np.int64),\n",
    "            np.array(reward, dtype=np.float32),\n",
    "            np.array(next_state, dtype=np.float32),\n",
    "            np.array(terminated, dtype=np.bool8),\n",
    "        ))\n",
    "\n",
    "    def __len__(self):\n",
    "        return len(self.memory)"
   ]
  },
  {
   "cell_type": "code",
   "execution_count": 3,
   "metadata": {},
   "outputs": [],
   "source": [
    "register(\n",
    "    id='CartPole-v2',\n",
    "    entry_point='cartpole_v2:CartPoleEnv',\n",
    "    max_episode_steps=500,\n",
    ")\n",
    "env = gymnasium.make('CartPole-v2')\n",
    "hidden_size = 128\n",
    "q = torch.nn.Sequential(\n",
    "    torch.nn.Linear(*env.observation_space.shape, hidden_size),\n",
    "    torch.nn.ReLU(),\n",
    "    torch.nn.Linear(hidden_size, hidden_size),\n",
    "    torch.nn.ReLU(),\n",
    "    torch.nn.Linear(hidden_size, env.action_space.n)\n",
    ")\n",
    "target_q = copy.deepcopy(q)"
   ]
  },
  {
   "cell_type": "code",
   "execution_count": 4,
   "metadata": {},
   "outputs": [],
   "source": [
    "lr = 0.0001\n",
    "discount = 0.99\n",
    "criterion = torch.nn.MSELoss()\n",
    "optimizer = torch.optim.Adam(q.parameters(), lr=lr)\n",
    "replay_buffer = ReplayBuffer(10000)\n",
    "num_episodes = 600\n",
    "batch_size = 128\n",
    "eps_start = 0.9\n",
    "eps_end = 0.05\n",
    "eps_decay = 1000\n",
    "tau = 0.005"
   ]
  },
  {
   "cell_type": "code",
   "execution_count": 5,
   "metadata": {},
   "outputs": [
    {
     "name": "stderr",
     "output_type": "stream",
     "text": [
      "  0%|          | 0/600 [00:00<?, ?it/s]"
     ]
    },
    {
     "name": "stderr",
     "output_type": "stream",
     "text": [
      " 17%|█▋        | 100/600 [00:16<01:41,  4.91it/s]"
     ]
    },
    {
     "name": "stdout",
     "output_type": "stream",
     "text": [
      "23.748416963639325\n"
     ]
    },
    {
     "name": "stderr",
     "output_type": "stream",
     "text": [
      " 33%|███▎      | 200/600 [01:15<07:42,  1.16s/it]"
     ]
    },
    {
     "name": "stdout",
     "output_type": "stream",
     "text": [
      "75.1619955109497\n"
     ]
    },
    {
     "name": "stderr",
     "output_type": "stream",
     "text": [
      " 50%|█████     | 300/600 [04:41<16:00,  3.20s/it]"
     ]
    },
    {
     "name": "stdout",
     "output_type": "stream",
     "text": [
      "292.8088602782247\n"
     ]
    },
    {
     "name": "stderr",
     "output_type": "stream",
     "text": [
      " 67%|██████▋   | 400/600 [10:21<10:56,  3.28s/it]"
     ]
    },
    {
     "name": "stdout",
     "output_type": "stream",
     "text": [
      "468.0223301553092\n"
     ]
    },
    {
     "name": "stderr",
     "output_type": "stream",
     "text": [
      " 83%|████████▎ | 500/600 [16:00<05:44,  3.45s/it]"
     ]
    },
    {
     "name": "stdout",
     "output_type": "stream",
     "text": [
      "488.7004316645173\n"
     ]
    },
    {
     "name": "stderr",
     "output_type": "stream",
     "text": [
      "100%|██████████| 600/600 [21:49<00:00,  2.18s/it]"
     ]
    },
    {
     "name": "stdout",
     "output_type": "stream",
     "text": [
      "493.4810519737807\n"
     ]
    },
    {
     "name": "stderr",
     "output_type": "stream",
     "text": [
      "\n"
     ]
    }
   ],
   "source": [
    "scores = []\n",
    "action_count = 0\n",
    "for i in tqdm(range(num_episodes)):\n",
    "    state, info = env.reset()\n",
    "    score = 0\n",
    "    for step in itertools.count():\n",
    "        eps = eps_end + (eps_start - eps_end) * math.exp(-action_count / eps_decay)\n",
    "        action_count += 1\n",
    "        if random.random() < eps:\n",
    "            action = env.action_space.sample()\n",
    "        else:\n",
    "            action = q(torch.tensor(state)).argmax().cpu().detach().item()\n",
    "        next_state, reward, terminated, truncated, info = env.step(action)\n",
    "        position = next_state[0]\n",
    "        distance = abs(position)\n",
    "        reward -= distance / 4.8\n",
    "        score += reward\n",
    "        replay_buffer.append(state, action, reward, next_state, terminated)\n",
    "        if len(replay_buffer) >= batch_size:\n",
    "            batch = replay_buffer.sample(batch_size)\n",
    "            state_action_values = q(batch.state).gather(1, batch.action.unsqueeze(1)).squeeze()\n",
    "            next_state_values = torch.zeros_like(state_action_values)\n",
    "            next_state_actions = q(batch.next_state[~batch.terminated]).max(1).indices\n",
    "            next_state_values[~batch.terminated] = target_q(batch.next_state[~batch.terminated]).gather(1, next_state_actions.unsqueeze(1)).squeeze()\n",
    "            expected_state_action_values = next_state_values * discount + batch.reward\n",
    "            loss = criterion(state_action_values, expected_state_action_values)\n",
    "            optimizer.zero_grad()\n",
    "            loss.backward()\n",
    "            optimizer.step()\n",
    "            \n",
    "        target_q_state_dict = target_q.state_dict()\n",
    "        q_state_dict = q.state_dict()\n",
    "        for key in q_state_dict:\n",
    "            target_q_state_dict[key] = tau * q_state_dict[key] + (1-tau) * target_q_state_dict[key]\n",
    "        target_q.load_state_dict(target_q_state_dict)\n",
    "            \n",
    "        state = next_state\n",
    "        if terminated or truncated:\n",
    "            break\n",
    "    \n",
    "    scores.append(score)\n",
    "\n",
    "    if (i + 1) % 100 == 0:\n",
    "        print(np.mean(scores[-100:]))"
   ]
  },
  {
   "cell_type": "code",
   "execution_count": 6,
   "metadata": {},
   "outputs": [
    {
     "data": {
      "text/plain": [
       "10000"
      ]
     },
     "execution_count": 6,
     "metadata": {},
     "output_type": "execute_result"
    }
   ],
   "source": [
    "len(replay_buffer)"
   ]
  },
  {
   "cell_type": "code",
   "execution_count": 7,
   "metadata": {},
   "outputs": [
    {
     "data": {
      "text/plain": [
       "[<matplotlib.lines.Line2D at 0x7f823cebf670>]"
      ]
     },
     "execution_count": 7,
     "metadata": {},
     "output_type": "execute_result"
    },
    {
     "data": {
      "image/png": "[encoded data removed]",
      "text/plain": [
       "<Figure size 640x480 with 1 Axes>"
      ]
     },
     "metadata": {},
     "output_type": "display_data"
    }
   ],
   "source": [
    "import matplotlib.pyplot as plt\n",
    "plt.plot(scores)\n",
    "smooth_size = 100\n",
    "scores_smooth = []\n",
    "scores_sum = sum(scores[:smooth_size])\n",
    "for i in range(len(scores) - smooth_size):\n",
    "    scores_sum += scores[i + smooth_size] - scores[i]\n",
    "    scores_smooth.append(scores_sum / smooth_size)\n",
    "plt.plot(range(smooth_size, len(scores)), scores_smooth)"
   ]
  },
  {
   "cell_type": "code",
   "execution_count": 8,
   "metadata": {},
   "outputs": [
    {
     "data": {
      "text/plain": [
       "[491.632673992588,\n",
       " 495.29003240800023,\n",
       " 492.0816541727009,\n",
       " 493.84793127227266,\n",
       " 499.66833072769685,\n",
       " 491.9993380596866,\n",
       " 492.5642170927798,\n",
       " 489.610705873458,\n",
       " 487.6586946723491,\n",
       " 497.0883851344785]"
      ]
     },
     "execution_count": 8,
     "metadata": {},
     "output_type": "execute_result"
    }
   ],
   "source": [
    "env = gymnasium.make('CartPole-v2', render_mode='human')\n",
    "valid_scores = []\n",
    "for i in range(10):\n",
    "    score = 0\n",
    "    state, info = env.reset()\n",
    "    while True:\n",
    "        action = torch.argmax(target_q(torch.tensor(state))).cpu().detach().item()\n",
    "        next_state, reward, terminated, truncated, info = env.step(action)\n",
    "        position = next_state[0]\n",
    "        distance = abs(position)\n",
    "        reward -= distance / 4.8\n",
    "        score += reward\n",
    "        state = next_state\n",
    "        if terminated or truncated:\n",
    "            break\n",
    "    valid_scores.append(score)\n",
    "env.close()\n",
    "valid_scores"
   ]
  },
  {
   "cell_type": "code",
   "execution_count": 9,
   "metadata": {},
   "outputs": [],
   "source": [
    "env.close()"
   ]
  },
  {
   "cell_type": "code",
   "execution_count": 10,
   "metadata": {},
   "outputs": [
    {
     "name": "stderr",
     "output_type": "stream",
     "text": [
      "/home/seokj/workspace/.venv/lib/python3.10/site-packages/gymnasium/envs/registration.py:555: UserWarning: \u001b[33mWARN: The environment CartPole-v1 is out of date. You should consider upgrading to version `v2`.\u001b[0m\n",
      "  logger.warn(\n"
     ]
    }
   ],
   "source": [
    "env = gymnasium.make('CartPole-v1')"
   ]
  }
 ],
 "metadata": {
  "kernelspec": {
   "display_name": ".venv",
   "language": "python",
   "name": "python3"
  },
  "language_info": {
   "codemirror_mode": {
    "name": "ipython",
    "version": 3
   },
   "file_extension": ".py",
   "mimetype": "text/x-python",
   "name": "python",
   "nbconvert_exporter": "python",
   "pygments_lexer": "ipython3",
   "version": "3.10.12"
  },
  "orig_nbformat": 4
 },
 "nbformat": 4,
 "nbformat_minor": 2
}
