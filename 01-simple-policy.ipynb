{
 "cells": [
  {
   "attachments": {},
   "cell_type": "markdown",
   "metadata": {},
   "source": [
    "강화학습을 구성하는 여러 요소 중 3가지는 아래와 같다.\n",
    "\n",
    "1. 액션 의존성- Agent가 하는 action에 따라 받는 reward가 다르다.\n",
    "\n",
    "2. 시간 의존성- action에 대한 reward를 바로바로 받는 것이 아니다. 얼마의 시간이 경과한 뒤 reward를 받을 수도 있고 sparse하다.\n",
    "\n",
    "3. 상태 의존성- Environment의 상태에 따라 받는 reward가 다르다.\n",
    "\n",
    "이번 예시에서는 bandit을 당기면 그에 따라 다른 확률로 보상이나 패널티를 받는다. 2, 3번을 고려하지 않는다.\n",
    "\n",
    "아래는 강화학습 과정을 나타낸다.\n",
    "\n",
    "1. Agent는 Environment로부터 받은 상태를 기반으로 action을 생산한다. (단, 이번 Bandit 예제에서는 Environement의 상태는 없다.)\n",
    "\n",
    "2. Environment는 Agent로부터 받은 action을 기반으로 reward를 생산한다. 그리고 자신을 그 action을 기반으로 상태를 업데이트 한다. (단, Environment의 상태가 없기 때문에 생략한다.)\n",
    "\n",
    "3. Agent는 앞서 생산했던 action을 주고 어떤 reward를 받았는지를 통해 학습을 진행한다."
   ]
  },
  {
   "cell_type": "code",
   "execution_count": 224,
   "metadata": {},
   "outputs": [],
   "source": [
    "import numpy as np\n",
    "\n",
    "class Environment:\n",
    "    def __init__(self, bandit_arms):\n",
    "        self.bandit_arms = list(bandit_arms)\n",
    "        self.num_arms = len(bandit_arms)\n",
    "\n",
    "    def pull_bandit(self, action):\n",
    "        result = np.random.randn()\n",
    "        return 1 if result > self.bandit_arms[action] else -1\n",
    "\n",
    "env = Environment([0.2, 0, -0.2, -2])"
   ]
  },
  {
   "cell_type": "code",
   "execution_count": 225,
   "metadata": {},
   "outputs": [],
   "source": [
    "import torch\n",
    "\n",
    "class Agent():\n",
    "    def __init__(self, num_actions):\n",
    "        self.weights = torch.ones(num_actions, requires_grad=True)\n",
    "        self.policy = torch.nn.Softmax(dim=0)\n",
    "        self.optimizer = torch.optim.Adam([self.weights], lr=1e-3)\n",
    "\n",
    "    def action(self) -> int:\n",
    "        with torch.inference_mode():\n",
    "            output = self.policy(self.weights)\n",
    "            action = torch.multinomial(output, 1)\n",
    "        return action.detach().item()\n",
    "\n",
    "    def train(self, action, reward):\n",
    "        responsible_output = self.weights[action]\n",
    "        loss = -torch.log(responsible_output) * reward\n",
    "        self.optimizer.zero_grad()\n",
    "        loss.backward()\n",
    "        self.optimizer.step()\n",
    "\n",
    "agent = Agent(env.num_arms)"
   ]
  },
  {
   "cell_type": "code",
   "execution_count": 226,
   "metadata": {},
   "outputs": [
    {
     "name": "stdout",
     "output_type": "stream",
     "text": [
      "50 [-3.  2.  0.  9.]\n",
      "100 [-9.  3.  1. 15.]\n",
      "150 [-7.  1.  3. 27.]\n",
      "200 [-6. -2.  4. 38.]\n",
      "250 [-7. -4.  3. 52.]\n",
      "300 [-13. -14.  -2.  63.]\n",
      "350 [-15.  -6.   5.  74.]\n",
      "400 [-19.  -7.   3.  87.]\n",
      "450 [-29.   0.   7.  98.]\n",
      "500 [-31.  -5.  16. 116.]\n",
      "550 [-32.  -7.  21. 132.]\n",
      "600 [-31. -10.  23. 148.]\n",
      "650 [-30.  -5.  31. 158.]\n",
      "700 [-31.  -9.  29. 171.]\n",
      "750 [-36. -12.  32. 186.]\n",
      "800 [-37. -14.  34. 207.]\n",
      "850 [-35. -19.  36. 224.]\n",
      "900 [-36. -18.  36. 240.]\n",
      "950 [-43. -18.  42. 257.]\n",
      "1000 [-42. -11.  41. 274.]\n"
     ]
    }
   ],
   "source": [
    "total_episode = 1000\n",
    "total_reward = np.zeros(env.num_arms)\n",
    "\n",
    "for i in range(total_episode):\n",
    "    action = agent.action()\n",
    "    reward = env.pull_bandit(action)\n",
    "    agent.train(action, reward)\n",
    "    total_reward[action] += reward\n",
    "    if i % 50 == 49:\n",
    "        print(i + 1, total_reward)"
   ]
  },
  {
   "cell_type": "code",
   "execution_count": 227,
   "metadata": {},
   "outputs": [
    {
     "data": {
      "text/plain": [
       "tensor([0.9146, 0.9718, 1.0808, 1.5027], requires_grad=True)"
      ]
     },
     "execution_count": 227,
     "metadata": {},
     "output_type": "execute_result"
    }
   ],
   "source": [
    "agent.weights"
   ]
  }
 ],
 "metadata": {
  "kernelspec": {
   "display_name": ".venv",
   "language": "python",
   "name": "python3"
  },
  "language_info": {
   "codemirror_mode": {
    "name": "ipython",
    "version": 3
   },
   "file_extension": ".py",
   "mimetype": "text/x-python",
   "name": "python",
   "nbconvert_exporter": "python",
   "pygments_lexer": "ipython3",
   "version": "3.10.12"
  },
  "orig_nbformat": 4
 },
 "nbformat": 4,
 "nbformat_minor": 2
}
